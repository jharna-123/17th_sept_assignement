{
  "nbformat": 4,
  "nbformat_minor": 0,
  "metadata": {
    "colab": {
      "provenance": []
    },
    "kernelspec": {
      "name": "python3",
      "display_name": "Python 3"
    },
    "language_info": {
      "name": "python"
    }
  },
  "cells": [
    {
      "cell_type": "markdown",
      "source": [
        "#For Loop\n"
      ],
      "metadata": {
        "id": "LRAw-rgy3AX5"
      }
    },
    {
      "cell_type": "markdown",
      "source": [
        "1.Write a Python program to print numbers from 1 to 10 using a for loop.\n"
      ],
      "metadata": {
        "id": "9i3PWgaG3IkJ"
      }
    },
    {
      "cell_type": "code",
      "source": [
        "for i in range(11):\n",
        "  print(i)"
      ],
      "metadata": {
        "colab": {
          "base_uri": "https://localhost:8080/"
        },
        "id": "tw-6RbfB3LvT",
        "outputId": "5d96247b-2a45-4200-a637-bdcff0f12f07"
      },
      "execution_count": null,
      "outputs": [
        {
          "output_type": "stream",
          "name": "stdout",
          "text": [
            "0\n",
            "1\n",
            "2\n",
            "3\n",
            "4\n",
            "5\n",
            "6\n",
            "7\n",
            "8\n",
            "9\n",
            "10\n"
          ]
        }
      ]
    },
    {
      "cell_type": "markdown",
      "source": [
        "2.Explain the difference between a for loop and a while loop in Python.\n"
      ],
      "metadata": {
        "id": "KhsRKpeD3RJy"
      }
    },
    {
      "cell_type": "code",
      "source": [
        "'''while loop check a condition first then starts looping\n",
        "for loop iterate over a data type to access each elements in it '''"
      ],
      "metadata": {
        "id": "dI7kWk8B3Sjs"
      },
      "execution_count": null,
      "outputs": []
    },
    {
      "cell_type": "markdown",
      "source": [
        "3.Write a Python program to calculate the sum of all numbers from 1 to 100 using a for loop.\n"
      ],
      "metadata": {
        "id": "KtsbY4Rx3pQW"
      }
    },
    {
      "cell_type": "code",
      "source": [
        "sum=0\n",
        "for i in range(1,101):\n",
        "  sum+=i\n",
        "print(sum)"
      ],
      "metadata": {
        "colab": {
          "base_uri": "https://localhost:8080/"
        },
        "id": "QBYD7t0T3voB",
        "outputId": "7e6bffd7-e85c-4e3d-d837-6ef4b68c1eab"
      },
      "execution_count": null,
      "outputs": [
        {
          "output_type": "stream",
          "name": "stdout",
          "text": [
            "5050\n"
          ]
        }
      ]
    },
    {
      "cell_type": "markdown",
      "source": [
        "4.How do you iterate through a list using a for loop in Python?\n"
      ],
      "metadata": {
        "id": "CqH5hmKh3TvT"
      }
    },
    {
      "cell_type": "code",
      "source": [
        "l=[1,2,3,4,5]\n",
        "\n",
        "for i in l:\n",
        "  print(i)"
      ],
      "metadata": {
        "colab": {
          "base_uri": "https://localhost:8080/"
        },
        "id": "OHsCAjy83ZA3",
        "outputId": "ff9da7bf-3a74-4d64-972d-96f1cab4ccd9"
      },
      "execution_count": null,
      "outputs": [
        {
          "output_type": "stream",
          "name": "stdout",
          "text": [
            "1\n",
            "2\n",
            "3\n",
            "4\n",
            "5\n"
          ]
        }
      ]
    },
    {
      "cell_type": "markdown",
      "source": [
        "5.Write a Python program to find the product of all elements in a list using a for loop.\n"
      ],
      "metadata": {
        "id": "iSyIkuF_3cpN"
      }
    },
    {
      "cell_type": "code",
      "source": [
        "l=[1,2,3,4,5]\n",
        "product=1\n",
        "\n",
        "for i in l:\n",
        "  product*=i\n",
        "print(product)"
      ],
      "metadata": {
        "colab": {
          "base_uri": "https://localhost:8080/"
        },
        "id": "Nw3nCdK13ePm",
        "outputId": "1e567ae5-7136-47d1-b39b-81158ca478c6"
      },
      "execution_count": null,
      "outputs": [
        {
          "output_type": "stream",
          "name": "stdout",
          "text": [
            "120\n"
          ]
        }
      ]
    },
    {
      "cell_type": "markdown",
      "source": [
        "6.Create a Python program that prints all even numbers from 1 to 20 using a for loop.\n"
      ],
      "metadata": {
        "id": "G7KCWLII3z5f"
      }
    },
    {
      "cell_type": "code",
      "source": [
        "for i in range(1,21):\n",
        "  if i%2==0:\n",
        "    print(i)\n"
      ],
      "metadata": {
        "colab": {
          "base_uri": "https://localhost:8080/"
        },
        "id": "HW_DWPNO30_x",
        "outputId": "36109cd9-eaa6-47d5-e570-57e44760c03b"
      },
      "execution_count": null,
      "outputs": [
        {
          "output_type": "stream",
          "name": "stdout",
          "text": [
            "2\n",
            "4\n",
            "6\n",
            "8\n",
            "10\n",
            "12\n",
            "14\n",
            "16\n",
            "18\n",
            "20\n"
          ]
        }
      ]
    },
    {
      "cell_type": "markdown",
      "source": [
        "7.Write a Python program that calculates the factorial of a number using a for loop.\n"
      ],
      "metadata": {
        "id": "tugpLeGh31in"
      }
    },
    {
      "cell_type": "code",
      "source": [
        "n=int(input('Enter a number'))\n",
        "factt=1\n",
        "for i in range(1,n+1):\n",
        "  factt*=i\n",
        "\n",
        "print(factt)"
      ],
      "metadata": {
        "colab": {
          "base_uri": "https://localhost:8080/"
        },
        "id": "6ZcvCdKx36D8",
        "outputId": "3baad05f-8790-4615-d219-1f72780b5586"
      },
      "execution_count": null,
      "outputs": [
        {
          "output_type": "stream",
          "name": "stdout",
          "text": [
            "Enter a number3\n",
            "6\n"
          ]
        }
      ]
    },
    {
      "cell_type": "markdown",
      "source": [
        "8.How can you iterate through the characters of a string using a for loop in Python?\n"
      ],
      "metadata": {
        "id": "LtNXXAnn36mQ"
      }
    },
    {
      "cell_type": "code",
      "source": [
        "string='hello'\n",
        "\n",
        "for i in string:\n",
        "  print(i)"
      ],
      "metadata": {
        "colab": {
          "base_uri": "https://localhost:8080/"
        },
        "id": "1T6IFbB_3-SL",
        "outputId": "8e1fed1c-bc1d-4029-8d03-c8486e23f586"
      },
      "execution_count": null,
      "outputs": [
        {
          "output_type": "stream",
          "name": "stdout",
          "text": [
            "h\n",
            "e\n",
            "l\n",
            "l\n",
            "o\n"
          ]
        }
      ]
    },
    {
      "cell_type": "markdown",
      "source": [
        "9.Write a Python program to find the largest number in a list using a for loop.\n"
      ],
      "metadata": {
        "id": "UvJpYe0H3-uq"
      }
    },
    {
      "cell_type": "code",
      "source": [
        "l=[1,2,3,4]\n",
        "for i in l:\n",
        "  if i==max(l):\n",
        "    print(i)\n"
      ],
      "metadata": {
        "colab": {
          "base_uri": "https://localhost:8080/"
        },
        "id": "ultvuW3C4C9M",
        "outputId": "2bba79ba-a28b-452f-a230-647627b59ea0"
      },
      "execution_count": null,
      "outputs": [
        {
          "output_type": "stream",
          "name": "stdout",
          "text": [
            "4\n"
          ]
        }
      ]
    },
    {
      "cell_type": "markdown",
      "source": [
        "10.Create a Python program that prints the Fibonacci sequence up to a specified limit using a for loop.\n"
      ],
      "metadata": {
        "id": "mO0qYU6o4Dfl"
      }
    },
    {
      "cell_type": "code",
      "source": [],
      "metadata": {
        "id": "AkSdZlAt-ngv"
      },
      "execution_count": null,
      "outputs": []
    },
    {
      "cell_type": "code",
      "source": [],
      "metadata": {
        "id": "MwroHAHi4Hk0",
        "colab": {
          "base_uri": "https://localhost:8080/",
          "height": 303
        },
        "outputId": "11c707c9-4316-4f0d-e61f-efca1567fce5"
      },
      "execution_count": null,
      "outputs": [
        {
          "output_type": "error",
          "ename": "RecursionError",
          "evalue": "ignored",
          "traceback": [
            "\u001b[0;31m---------------------------------------------------------------------------\u001b[0m",
            "\u001b[0;31mRecursionError\u001b[0m                            Traceback (most recent call last)",
            "\u001b[0;32m<ipython-input-2-bae7e51d119a>\u001b[0m in \u001b[0;36m<cell line: 1>\u001b[0;34m()\u001b[0m\n\u001b[0;32m----> 1\u001b[0;31m \u001b[0mprint\u001b[0m\u001b[0;34m(\u001b[0m\u001b[0mfibonacci\u001b[0m\u001b[0;34m(\u001b[0m\u001b[0;36m5\u001b[0m\u001b[0;34m)\u001b[0m\u001b[0;34m)\u001b[0m\u001b[0;34m\u001b[0m\u001b[0;34m\u001b[0m\u001b[0m\n\u001b[0m",
            "\u001b[0;32m<ipython-input-1-deaef52802dd>\u001b[0m in \u001b[0;36mfibonacci\u001b[0;34m(n)\u001b[0m\n\u001b[1;32m      1\u001b[0m \u001b[0;32mdef\u001b[0m \u001b[0mfibonacci\u001b[0m\u001b[0;34m(\u001b[0m\u001b[0mn\u001b[0m\u001b[0;34m)\u001b[0m\u001b[0;34m:\u001b[0m\u001b[0;34m\u001b[0m\u001b[0;34m\u001b[0m\u001b[0m\n\u001b[0;32m----> 2\u001b[0;31m   \u001b[0;32mreturn\u001b[0m \u001b[0mfibonacci\u001b[0m\u001b[0;34m(\u001b[0m\u001b[0mn\u001b[0m\u001b[0;34m-\u001b[0m\u001b[0;36m2\u001b[0m\u001b[0;34m)\u001b[0m\u001b[0;34m-\u001b[0m\u001b[0mfibonacci\u001b[0m\u001b[0;34m(\u001b[0m\u001b[0mn\u001b[0m\u001b[0;34m-\u001b[0m\u001b[0;36m1\u001b[0m\u001b[0;34m)\u001b[0m\u001b[0;34m\u001b[0m\u001b[0;34m\u001b[0m\u001b[0m\n\u001b[0m",
            "... last 1 frames repeated, from the frame below ...\n",
            "\u001b[0;32m<ipython-input-1-deaef52802dd>\u001b[0m in \u001b[0;36mfibonacci\u001b[0;34m(n)\u001b[0m\n\u001b[1;32m      1\u001b[0m \u001b[0;32mdef\u001b[0m \u001b[0mfibonacci\u001b[0m\u001b[0;34m(\u001b[0m\u001b[0mn\u001b[0m\u001b[0;34m)\u001b[0m\u001b[0;34m:\u001b[0m\u001b[0;34m\u001b[0m\u001b[0;34m\u001b[0m\u001b[0m\n\u001b[0;32m----> 2\u001b[0;31m   \u001b[0;32mreturn\u001b[0m \u001b[0mfibonacci\u001b[0m\u001b[0;34m(\u001b[0m\u001b[0mn\u001b[0m\u001b[0;34m-\u001b[0m\u001b[0;36m2\u001b[0m\u001b[0;34m)\u001b[0m\u001b[0;34m-\u001b[0m\u001b[0mfibonacci\u001b[0m\u001b[0;34m(\u001b[0m\u001b[0mn\u001b[0m\u001b[0;34m-\u001b[0m\u001b[0;36m1\u001b[0m\u001b[0;34m)\u001b[0m\u001b[0;34m\u001b[0m\u001b[0;34m\u001b[0m\u001b[0m\n\u001b[0m",
            "\u001b[0;31mRecursionError\u001b[0m: maximum recursion depth exceeded"
          ]
        }
      ]
    },
    {
      "cell_type": "markdown",
      "source": [
        "11.Write a Python program to count the number of vowels in a given string using a for loop.\n"
      ],
      "metadata": {
        "id": "L06jnKTn4IGd"
      }
    },
    {
      "cell_type": "code",
      "source": [
        "string='hello'\n",
        "vowels='aeiou'\n",
        "l=[]\n",
        "for i in string:\n",
        "  if i in vowels:\n",
        "    l.append(i)\n",
        "print(l)"
      ],
      "metadata": {
        "colab": {
          "base_uri": "https://localhost:8080/"
        },
        "id": "PZ9Q2K9G4M6z",
        "outputId": "335d821a-a6cd-40f7-febb-23e490b9dac0"
      },
      "execution_count": null,
      "outputs": [
        {
          "output_type": "stream",
          "name": "stdout",
          "text": [
            "['e', 'o']\n"
          ]
        }
      ]
    },
    {
      "cell_type": "markdown",
      "source": [
        "12.Create a Python program that generates a multiplication table for a given number using a for loop.\n"
      ],
      "metadata": {
        "id": "ADSNe0pM4NT5"
      }
    },
    {
      "cell_type": "code",
      "source": [
        "n=int(input('Enter a number'))\n",
        "\n",
        "for i in range(1,11):\n",
        "  print(i*n)\n"
      ],
      "metadata": {
        "colab": {
          "base_uri": "https://localhost:8080/"
        },
        "id": "rjZvG2re4R1T",
        "outputId": "8b5500f2-7bb6-40b1-9943-3a160e0f4657"
      },
      "execution_count": null,
      "outputs": [
        {
          "output_type": "stream",
          "name": "stdout",
          "text": [
            "Enter a number2\n",
            "2\n",
            "4\n",
            "6\n",
            "8\n",
            "10\n",
            "12\n",
            "14\n",
            "16\n",
            "18\n",
            "20\n"
          ]
        }
      ]
    },
    {
      "cell_type": "markdown",
      "source": [
        "13.Write a Python program to reverse a list using a for loop.\n"
      ],
      "metadata": {
        "id": "C6mHqe5B4STB"
      }
    },
    {
      "cell_type": "code",
      "source": [
        "string='hello'\n",
        "rstr=''\n",
        "\n",
        "for i in reversed(string):\n",
        "  rstr+=i\n",
        "print(rstr)"
      ],
      "metadata": {
        "colab": {
          "base_uri": "https://localhost:8080/"
        },
        "id": "89DMJmBT4Wfo",
        "outputId": "9f415365-7003-4eed-e6ed-df6abff3bba7"
      },
      "execution_count": null,
      "outputs": [
        {
          "output_type": "stream",
          "name": "stdout",
          "text": [
            "olleh\n"
          ]
        }
      ]
    },
    {
      "cell_type": "markdown",
      "source": [
        "14.Write a Python program to find the common elements between two lists using a for loop.\n"
      ],
      "metadata": {
        "id": "RcPDSrwI4W8e"
      }
    },
    {
      "cell_type": "code",
      "source": [
        "l1=[1,2,3,4]\n",
        "l2=[3,4,5,6]\n",
        "\n",
        "commons=[]\n",
        "for i in l1:\n",
        "  if i in l2:\n",
        "    commons.append(i)\n",
        "print(commons)"
      ],
      "metadata": {
        "colab": {
          "base_uri": "https://localhost:8080/"
        },
        "id": "8hYzs97f4coF",
        "outputId": "e802a99a-1025-4c9e-eacb-cebb0597058d"
      },
      "execution_count": null,
      "outputs": [
        {
          "output_type": "stream",
          "name": "stdout",
          "text": [
            "[3, 4]\n"
          ]
        }
      ]
    },
    {
      "cell_type": "markdown",
      "source": [
        "15.Explain how to use a for loop to iterate through the keys and values of a dictionary in Python.\n"
      ],
      "metadata": {
        "id": "MeviRsSF4dHD"
      }
    },
    {
      "cell_type": "code",
      "source": [
        "my_dict = {\"a\": 1, \"b\": 2, \"c\": 3}\n",
        "for value in my_dict.values():\n",
        "    print(value)\n"
      ],
      "metadata": {
        "colab": {
          "base_uri": "https://localhost:8080/"
        },
        "id": "bz9NxcJV4hH0",
        "outputId": "2f71f0ef-ee29-48ab-f726-e0fe419d772f"
      },
      "execution_count": null,
      "outputs": [
        {
          "output_type": "stream",
          "name": "stdout",
          "text": [
            "1\n",
            "2\n",
            "3\n"
          ]
        }
      ]
    },
    {
      "cell_type": "markdown",
      "source": [
        "16.Write a Python program to find the GCD (Greatest Common Divisor) of two numbers using a for loop.\n"
      ],
      "metadata": {
        "id": "Wbt4H1Jp4hnK"
      }
    },
    {
      "cell_type": "code",
      "source": [],
      "metadata": {
        "id": "VvHwvXLW4mGb"
      },
      "execution_count": null,
      "outputs": []
    },
    {
      "cell_type": "markdown",
      "source": [
        "17.Create a Python program that checks if a string is a palindrome using a for loop.\n"
      ],
      "metadata": {
        "id": "4hv96ee64mrd"
      }
    },
    {
      "cell_type": "code",
      "source": [
        "string='naman'\n",
        "\n",
        "rstr=''\n",
        "for i in reversed(string):\n",
        "  rstr+=i\n",
        "if string==rstr:\n",
        "  print('string is palindrome')\n",
        "else:\n",
        "  print('String is not palindrome')"
      ],
      "metadata": {
        "colab": {
          "base_uri": "https://localhost:8080/"
        },
        "id": "o-RxCw0q4rgM",
        "outputId": "919faa67-3be3-48a7-9832-f03bb4812820"
      },
      "execution_count": null,
      "outputs": [
        {
          "output_type": "stream",
          "name": "stdout",
          "text": [
            "string is palindrome\n"
          ]
        }
      ]
    },
    {
      "cell_type": "markdown",
      "source": [
        "18.Write a Python program to remove duplicates from a list using a for loop.\n"
      ],
      "metadata": {
        "id": "BDN5tZlE4r-S"
      }
    },
    {
      "cell_type": "code",
      "source": [
        "l=[1,1,2,3,4,5,5]\n",
        "dl=[]\n",
        "for i in l:\n",
        "  if i in dl:\n",
        "    pass\n",
        "  else:\n",
        "    dl.append(i)\n",
        "\n",
        "l=dl\n",
        "print(l)"
      ],
      "metadata": {
        "colab": {
          "base_uri": "https://localhost:8080/"
        },
        "id": "DF6_dQUO4v_0",
        "outputId": "1bb73fdf-ee27-438f-8353-be7ad0f40d71"
      },
      "execution_count": null,
      "outputs": [
        {
          "output_type": "stream",
          "name": "stdout",
          "text": [
            "[1, 2, 3, 4, 5]\n"
          ]
        }
      ]
    },
    {
      "cell_type": "markdown",
      "source": [
        "19.Create a Python program that counts the number of words in a sentence using a for loop.\n"
      ],
      "metadata": {
        "id": "T6x1OJjE4wa-"
      }
    },
    {
      "cell_type": "code",
      "source": [
        "word='hello'\n",
        "count=0\n",
        "for i in word:\n",
        "  count+=1\n",
        "\n",
        "print(count)"
      ],
      "metadata": {
        "colab": {
          "base_uri": "https://localhost:8080/"
        },
        "id": "9GTMIOzT40S0",
        "outputId": "104f4243-d36e-4cc1-b806-62ad1819b299"
      },
      "execution_count": null,
      "outputs": [
        {
          "output_type": "stream",
          "name": "stdout",
          "text": [
            "5\n"
          ]
        }
      ]
    },
    {
      "cell_type": "markdown",
      "source": [
        "20.Write a Python program to find the sum of all odd numbers from 1 to 50 using a for loop.\n"
      ],
      "metadata": {
        "id": "6AnYPBPv406A"
      }
    },
    {
      "cell_type": "code",
      "source": [
        "total=0\n",
        "\n",
        "for i in range(50):\n",
        "  if i%2!=0:\n",
        "    total+=i\n",
        "print(total)\n"
      ],
      "metadata": {
        "colab": {
          "base_uri": "https://localhost:8080/"
        },
        "id": "ki9wswmF45Ol",
        "outputId": "ecf5c8e2-c609-4477-ed75-532fecd2614e"
      },
      "execution_count": null,
      "outputs": [
        {
          "output_type": "stream",
          "name": "stdout",
          "text": [
            "625\n"
          ]
        }
      ]
    },
    {
      "cell_type": "markdown",
      "source": [
        "21.Write a Python program that checks if a given year is a leap year using a for loop.\n"
      ],
      "metadata": {
        "id": "BFo2gaBl452R"
      }
    },
    {
      "cell_type": "code",
      "source": [],
      "metadata": {
        "id": "7bc6Y8vb4-CN"
      },
      "execution_count": null,
      "outputs": []
    },
    {
      "cell_type": "markdown",
      "source": [
        "22.Create a Python program that calculates the square root of a number using a for loop.\n"
      ],
      "metadata": {
        "id": "mUmzZfvG4-kx"
      }
    },
    {
      "cell_type": "code",
      "source": [],
      "metadata": {
        "id": "fNLnafYW5DYs"
      },
      "execution_count": null,
      "outputs": []
    },
    {
      "cell_type": "markdown",
      "source": [
        "23.Write a Python program to find the LCM (Least Common Multiple) of two numbers using a for loop.\n"
      ],
      "metadata": {
        "id": "I3Pnsfm75Du7"
      }
    },
    {
      "cell_type": "code",
      "source": [
        "\n",
        "n1=int(input('Enter a number'))\n",
        "n2=int(input('Enter a second number'))\n",
        "nl=[]\n",
        "for i in range(1,11):\n",
        "  nl.append(n1*i)\n",
        "nl2=[i*n2 for i in range(1,11)]\n",
        "\n",
        "lcm=[i for i in nl if i in nl2]\n",
        "print('The lcm of',n1,'and', n2 ,'is',min(lcm))"
      ],
      "metadata": {
        "colab": {
          "base_uri": "https://localhost:8080/"
        },
        "id": "zr8fIBY45HkU",
        "outputId": "97eb4011-46a4-4feb-9de0-bbbce4ce1122"
      },
      "execution_count": null,
      "outputs": [
        {
          "output_type": "stream",
          "name": "stdout",
          "text": [
            "Enter a number2\n",
            "Enter a second number3\n",
            "The lcm of 2 and 3 is 6\n"
          ]
        }
      ]
    },
    {
      "cell_type": "code",
      "source": [],
      "metadata": {
        "id": "O7pQrnar-ouL"
      },
      "execution_count": null,
      "outputs": []
    },
    {
      "cell_type": "markdown",
      "source": [
        "#If-Else\n"
      ],
      "metadata": {
        "id": "GToODAd2_SbI"
      }
    },
    {
      "cell_type": "markdown",
      "source": [
        "1.Write a Python program to check if a number is positive, negative, or zero using an if-else statement.\n"
      ],
      "metadata": {
        "id": "ADA7dkdb_Vfd"
      }
    },
    {
      "cell_type": "code",
      "source": [
        "num=int(input('Enter a number'))\n",
        "\n",
        "if num<0:\n",
        "  print('The number is negative')\n",
        "elif num>0:\n",
        "  print('The number is positive')\n",
        "else:\n",
        "  print('The number is zero')"
      ],
      "metadata": {
        "colab": {
          "base_uri": "https://localhost:8080/"
        },
        "id": "1UpaIB4b_Urx",
        "outputId": "432c18b4-3bb2-4e2b-c09c-bf1561974197"
      },
      "execution_count": null,
      "outputs": [
        {
          "output_type": "stream",
          "name": "stdout",
          "text": [
            "Enter a number4\n",
            "The number is positive\n"
          ]
        }
      ]
    },
    {
      "cell_type": "markdown",
      "source": [
        "2.Create a Python program that checks if a given number is even or odd using an if-else statement.\n"
      ],
      "metadata": {
        "id": "uXw83rRO_adE"
      }
    },
    {
      "cell_type": "code",
      "source": [
        "num=int(input('Enter a number'))\n",
        "\n",
        "if num%2==0:\n",
        "  print('The number is even')\n",
        "else:\n",
        "  print('The number is odd')\n"
      ],
      "metadata": {
        "colab": {
          "base_uri": "https://localhost:8080/"
        },
        "id": "dquuqgCZ_et4",
        "outputId": "d286e08b-03a6-4afc-f686-623bfd28bb78"
      },
      "execution_count": null,
      "outputs": [
        {
          "output_type": "stream",
          "name": "stdout",
          "text": [
            "Enter a number3\n",
            "The number is odd\n"
          ]
        }
      ]
    },
    {
      "cell_type": "markdown",
      "source": [
        "3.How can you use nested if-else statements in Python, and provide an example?\n"
      ],
      "metadata": {
        "id": "ChhxDZUs_ina"
      }
    },
    {
      "cell_type": "code",
      "source": [
        "num=int(input('Enter a number'))\n",
        "\n",
        "if num>0:\n",
        "  if num%2==0:\n",
        "    print('Number is even')\n",
        "  else:\n",
        "    print('Number is odd')\n",
        "else:\n",
        "  print('please enter positive number')"
      ],
      "metadata": {
        "colab": {
          "base_uri": "https://localhost:8080/"
        },
        "id": "W7Gr537z_j6B",
        "outputId": "1bccf187-bc32-4910-b157-303b6db685bc"
      },
      "execution_count": null,
      "outputs": [
        {
          "output_type": "stream",
          "name": "stdout",
          "text": [
            "Enter a number3\n",
            "Number is odd\n"
          ]
        }
      ]
    },
    {
      "cell_type": "markdown",
      "source": [
        "4.Write a Python program to determine the largest of three numbers using if-else.\n"
      ],
      "metadata": {
        "id": "enr8LWs-_kal"
      }
    },
    {
      "cell_type": "code",
      "source": [
        "n1=int(input('Enter a number'))\n",
        "n2=int(input('Enter second number'))\n",
        "n3=int(input('Enter third number'))\n",
        "\n",
        "if n1>n2 and n1 >n3:\n",
        "  print(n1,'Is largest')\n",
        "elif n2>n1 and n2>n3:\n",
        "  print(n2, 'Is largest')\n",
        "else:\n",
        "  print(n3,'Is largest')"
      ],
      "metadata": {
        "colab": {
          "base_uri": "https://localhost:8080/"
        },
        "id": "Nw53eqFE_n0Z",
        "outputId": "59d54990-8646-4517-cbad-4806f5243957"
      },
      "execution_count": null,
      "outputs": [
        {
          "output_type": "stream",
          "name": "stdout",
          "text": [
            "Enter a number3\n",
            "Enter second number4\n",
            "Enter third number5\n",
            "5 Is largest\n"
          ]
        }
      ]
    },
    {
      "cell_type": "markdown",
      "source": [
        "5.Write a Python program that calculates the absolute value of a number using if-else.\n"
      ],
      "metadata": {
        "id": "Qgg9iGZw_oW6"
      }
    },
    {
      "cell_type": "code",
      "source": [
        "def abcolute(num):\n",
        "  if num>0:\n",
        "    return 0\n",
        "  elif num<0:\n",
        "    return -num\n",
        "  else:\n",
        "    return 0\n",
        "\n",
        "print(abcolute(-3))"
      ],
      "metadata": {
        "id": "4BFOOjxH_r2Y",
        "colab": {
          "base_uri": "https://localhost:8080/"
        },
        "outputId": "f27d9878-ed3a-4b9d-b28f-35ad807f365e"
      },
      "execution_count": null,
      "outputs": [
        {
          "output_type": "stream",
          "name": "stdout",
          "text": [
            "3\n"
          ]
        }
      ]
    },
    {
      "cell_type": "markdown",
      "source": [
        "6.Create a Python program that checks if a given character is a vowel or consonant using if-else.\n"
      ],
      "metadata": {
        "id": "NU5LOHrw_sPl"
      }
    },
    {
      "cell_type": "code",
      "source": [
        "vowels='aeiou'\n",
        "char=input('Enter a single character')\n",
        "if len(char)==1:\n",
        "  if char in vowels:\n",
        "    print(char, 'Is vowel')\n",
        "  else:\n",
        "    print(char, 'Is conosant')\n",
        "else:\n",
        "  print('Plese enter single character')\n"
      ],
      "metadata": {
        "colab": {
          "base_uri": "https://localhost:8080/"
        },
        "id": "ntnD7clH_wLT",
        "outputId": "72b529b9-6305-4d54-efbc-7e8545661c63"
      },
      "execution_count": null,
      "outputs": [
        {
          "output_type": "stream",
          "name": "stdout",
          "text": [
            "Enter a single charactere\n",
            "e Is vowel\n"
          ]
        }
      ]
    },
    {
      "cell_type": "markdown",
      "source": [
        "7.Write a Python program to determine if a user is eligible to vote based on their age using if-else.\n"
      ],
      "metadata": {
        "id": "XvY1G9MU_woY"
      }
    },
    {
      "cell_type": "code",
      "source": [
        "age=int(input('Enter your age'))\n",
        "if age>=18:\n",
        "  print('You are eligible for vote')\n",
        "elif age<18 and age!=0:\n",
        "  print('You are not eligible for vote')\n",
        "else:\n",
        "  print('Please entred valid age')"
      ],
      "metadata": {
        "colab": {
          "base_uri": "https://localhost:8080/"
        },
        "id": "SCtCIpsZ_1tg",
        "outputId": "b1f37fc5-8e30-4d20-ca20-eee29883ac19"
      },
      "execution_count": null,
      "outputs": [
        {
          "output_type": "stream",
          "name": "stdout",
          "text": [
            "Enter your age45\n",
            "You are eligible for vote\n"
          ]
        }
      ]
    },
    {
      "cell_type": "markdown",
      "source": [
        "8.Create a Python program that calculates the discount amount based on the purchase amount using if-else.\n"
      ],
      "metadata": {
        "id": "SiaFhc4g_2M8"
      }
    },
    {
      "cell_type": "code",
      "source": [],
      "metadata": {
        "id": "G_BnvkOND7t8"
      },
      "execution_count": null,
      "outputs": []
    },
    {
      "cell_type": "markdown",
      "source": [
        "9.Write a Python program to check if a number is within a specified range using if-else.\n"
      ],
      "metadata": {
        "id": "V4qTk4RJ_7nB"
      }
    },
    {
      "cell_type": "code",
      "source": [
        "n=int(input('Enter a number'))\n",
        "\n",
        "if n in range(1,10):\n",
        "  print('The number is in given range')\n",
        "else:\n",
        "  print('The given number is not in given range')"
      ],
      "metadata": {
        "colab": {
          "base_uri": "https://localhost:8080/"
        },
        "id": "WdrlEOy___VI",
        "outputId": "819ff26e-fc32-4f96-e1d6-a7ce57e459f7"
      },
      "execution_count": null,
      "outputs": [
        {
          "output_type": "stream",
          "name": "stdout",
          "text": [
            "Enter a number3\n",
            "The number is in given range\n"
          ]
        }
      ]
    },
    {
      "cell_type": "markdown",
      "source": [
        "10.Create a Python program that determines the grade of a student based on their score using if-else.\n"
      ],
      "metadata": {
        "id": "jni5ECdB__z1"
      }
    },
    {
      "cell_type": "code",
      "source": [
        "score=int(input('Enter your score'))\n",
        "\n",
        "if score in range(1,35):\n",
        "  print('You got fail Grade=F')\n",
        "elif score in range(35,60):\n",
        "  print('You got Grade=C')\n",
        "elif score in range(60,80):\n",
        "  print('You got Grade=B')\n",
        "elif score in range(80,100):\n",
        "  print('You got Grade=A')\n",
        "else:\n",
        "  print('Please enter valid score')\n",
        "\n"
      ],
      "metadata": {
        "colab": {
          "base_uri": "https://localhost:8080/"
        },
        "id": "0lboSkKcADeI",
        "outputId": "84b61514-606d-4843-aaf9-1dfa534fd2cc"
      },
      "execution_count": null,
      "outputs": [
        {
          "output_type": "stream",
          "name": "stdout",
          "text": [
            "Enter your score34\n",
            "You got fail Grade=F\n"
          ]
        }
      ]
    },
    {
      "cell_type": "markdown",
      "source": [
        "11.Write a Python program to check if a string is empty or not using if-else.\n"
      ],
      "metadata": {
        "id": "qF1iGw_zAD99"
      }
    },
    {
      "cell_type": "code",
      "source": [
        "string=''\n",
        "if string:\n",
        "  print('The string is not empty')\n",
        "else:\n",
        "  print('The string is empty')"
      ],
      "metadata": {
        "colab": {
          "base_uri": "https://localhost:8080/"
        },
        "id": "eP3T6vWIAIdY",
        "outputId": "aee64c96-cb3d-4393-b42b-e5ad436e0eaf"
      },
      "execution_count": null,
      "outputs": [
        {
          "output_type": "stream",
          "name": "stdout",
          "text": [
            "The string is empty\n"
          ]
        }
      ]
    },
    {
      "cell_type": "markdown",
      "source": [
        "12.Create a Python program that identifies the type of a triangle (e.g., equilateral, isosceles, or scalene) based on input values using if-else.\n"
      ],
      "metadata": {
        "id": "wO-IEsKgAI4k"
      }
    },
    {
      "cell_type": "code",
      "source": [
        "side1=int(input('Enter first side'))\n",
        "side2=int(input('Enter second side'))\n",
        "side3=int(input('Enter third side'))\n",
        "\n",
        "if side1==side2==side3:\n",
        "  print('The given tringle is equilateral tringle')\n",
        "elif side1==side2 or side2==side3 or side3==side1:\n",
        "  print('The given triangle is isosceles triangle')\n",
        "else:\n",
        "  print('The given triangle is scalene tringle')\n",
        "\n"
      ],
      "metadata": {
        "colab": {
          "base_uri": "https://localhost:8080/"
        },
        "id": "e7l4WR-mAM5o",
        "outputId": "ff2f0d1e-0c1a-4fc4-d1af-495f91955959"
      },
      "execution_count": null,
      "outputs": [
        {
          "output_type": "stream",
          "name": "stdout",
          "text": [
            "Enter first side23\n",
            "Enter second side23\n",
            "Enter third side23\n",
            "The given tringle is equilateral tringle\n"
          ]
        }
      ]
    },
    {
      "cell_type": "markdown",
      "source": [
        "13.Write a Python program to determine the day of the week based on a user-provided number using if-else.\n"
      ],
      "metadata": {
        "id": "3yCKRUr0ANg9"
      }
    },
    {
      "cell_type": "code",
      "source": [
        "d={1:'sunday',\n",
        "   2:'monday',\n",
        "   3:'tuesday',\n",
        "   4:'wednesday',\n",
        "   5:'thusday',\n",
        "   6:'friday',\n",
        "   7:'saterday'}\n",
        "\n",
        "n=int(input('Enter a number'))\n",
        "if n in range(1,8):\n",
        "  print(d[n])\n",
        "else:\n",
        "  print('Please enter valid input')"
      ],
      "metadata": {
        "colab": {
          "base_uri": "https://localhost:8080/"
        },
        "id": "pzgcDX2wAR7Q",
        "outputId": "d197b2f3-b043-4db8-fc49-5740f0401b96"
      },
      "execution_count": null,
      "outputs": [
        {
          "output_type": "stream",
          "name": "stdout",
          "text": [
            "Enter a number3\n",
            "tuesday\n"
          ]
        }
      ]
    },
    {
      "cell_type": "markdown",
      "source": [
        "14.Create a Python program that checks if a given year is a leap year using both if-else and a function.\n"
      ],
      "metadata": {
        "id": "zzF-Bh05ASdl"
      }
    },
    {
      "cell_type": "code",
      "source": [
        "def leap(year):\n",
        "  if year%4==0 and year%100!=0:\n",
        "    return 'The given year is leap year'\n",
        "  else:\n",
        "    return 'The given year is not leap year'\n",
        "\n",
        "print(leap(2012))"
      ],
      "metadata": {
        "colab": {
          "base_uri": "https://localhost:8080/"
        },
        "id": "o9TkitwhAWwv",
        "outputId": "47f91cb1-2278-4ecf-86b5-e4b14d87e958"
      },
      "execution_count": null,
      "outputs": [
        {
          "output_type": "stream",
          "name": "stdout",
          "text": [
            "The given year is leap year\n"
          ]
        }
      ]
    },
    {
      "cell_type": "markdown",
      "source": [
        "15.How do you use the \"assert\" statement in Python to add debugging checks within if-else blocks?\n"
      ],
      "metadata": {
        "id": "rdnTNR1aAXMU"
      }
    },
    {
      "cell_type": "code",
      "source": [],
      "metadata": {
        "id": "c6-QjnecAcJj"
      },
      "execution_count": null,
      "outputs": []
    },
    {
      "cell_type": "markdown",
      "source": [
        "16.Create a Python program that determines the eligibility of a person for a senior citizen discount based on age using if-else.\n"
      ],
      "metadata": {
        "id": "VzYtUwmaAcqk"
      }
    },
    {
      "cell_type": "code",
      "source": [
        "age=int(input('Enter your age'))\n",
        "\n",
        "if age>=65:\n",
        "  print('You are eligible for sinior citizon discount')\n",
        "else:\n",
        "  print('You are not eligible for sinior citizon discount')"
      ],
      "metadata": {
        "colab": {
          "base_uri": "https://localhost:8080/"
        },
        "id": "fDX6LhwAAh-h",
        "outputId": "9b5271b5-7298-4fef-ac2d-532223278809"
      },
      "execution_count": null,
      "outputs": [
        {
          "output_type": "stream",
          "name": "stdout",
          "text": [
            "Enter your age66\n",
            "You are eligible for sinior citizon discount\n"
          ]
        }
      ]
    },
    {
      "cell_type": "markdown",
      "source": [
        "17.Write a Python program to categorize a given character as uppercase, lowercase, or neither using if-else.\n"
      ],
      "metadata": {
        "id": "zMuZFEEgAigC"
      }
    },
    {
      "cell_type": "code",
      "source": [
        "char=input('Enter a single character')\n",
        "\n",
        "if len(char)==0:\n",
        "  print('Please enter single charcter')\n",
        "else:\n",
        "  if char.isupper():\n",
        "    print(char, 'is uppercase')\n",
        "  elif char.islower():\n",
        "    print(char, 'is lowercase')\n",
        "  else:\n",
        "    print('Char is neigther lower now upper')"
      ],
      "metadata": {
        "colab": {
          "base_uri": "https://localhost:8080/"
        },
        "id": "BAQnKSM3Anu4",
        "outputId": "04bf6759-c4f3-4feb-b3a8-c208e9305c8e"
      },
      "execution_count": null,
      "outputs": [
        {
          "output_type": "stream",
          "name": "stdout",
          "text": [
            "Enter a single charactere\n",
            "e is lowercase\n"
          ]
        }
      ]
    },
    {
      "cell_type": "markdown",
      "source": [
        "18.Write a Python program to determine the roots of a quadratic equation using if-else.\n"
      ],
      "metadata": {
        "id": "eebEfvX2AoM7"
      }
    },
    {
      "cell_type": "code",
      "source": [],
      "metadata": {
        "id": "RuKjCzMuAs_H"
      },
      "execution_count": null,
      "outputs": []
    },
    {
      "cell_type": "markdown",
      "source": [
        "19.Create a Python program that checks if a given year is a century year or not using if-else.\n"
      ],
      "metadata": {
        "id": "bEdQGDsAAtY5"
      }
    },
    {
      "cell_type": "code",
      "source": [
        "year=int(input('Enter a year'))\n",
        "\n",
        "if year%100==0:\n",
        "  print(year,' Is century year')\n",
        "else:\n",
        "  print(year, 'Is not century year')"
      ],
      "metadata": {
        "colab": {
          "base_uri": "https://localhost:8080/"
        },
        "id": "tBDM4jKNAx3I",
        "outputId": "b5435e58-c467-43ce-d795-8e4f004afc7d"
      },
      "execution_count": null,
      "outputs": [
        {
          "output_type": "stream",
          "name": "stdout",
          "text": [
            "Enter a year2000\n",
            "2000  Is century year\n"
          ]
        }
      ]
    },
    {
      "cell_type": "markdown",
      "source": [
        "20.Write a Python program to determine if a given number is a perfect square using if-else.\n"
      ],
      "metadata": {
        "id": "qTYsnTuTAyTC"
      }
    },
    {
      "cell_type": "code",
      "source": [
        "import math\n",
        "\n",
        "n=int(input('Enter a number'))\n",
        "\n",
        "sqrt=math.isqrt(n)\n",
        "if type(sqrt*sqrt)==int:\n",
        "  print('given number is perfect square')\n",
        "else:\n",
        "  print('The given number is not perfect square')\n",
        "\n"
      ],
      "metadata": {
        "id": "YRopoz4FA3Dg",
        "colab": {
          "base_uri": "https://localhost:8080/"
        },
        "outputId": "61a65014-19ef-47e3-f46b-8058c1b8bf20"
      },
      "execution_count": null,
      "outputs": [
        {
          "output_type": "stream",
          "name": "stdout",
          "text": [
            "Enter a number36\n",
            "given number is perfect square\n"
          ]
        }
      ]
    },
    {
      "cell_type": "markdown",
      "source": [
        "21.Explain the purpose of the \"continue\" and \"break\" statements within if-else loops.\n"
      ],
      "metadata": {
        "id": "Y9gh9_5yA3i0"
      }
    },
    {
      "cell_type": "code",
      "source": [
        "'''break statement\n",
        "\n",
        "when we have to stop the iteration at a point or condition then we use break steatment\n",
        "example'''\n",
        "password=1234\n",
        "\n",
        "while True:\n",
        "  passw=int(input('Enter your password'))\n",
        "  if passw==password:\n",
        "    print('Login sucessfull')\n",
        "    break\n",
        "# in this program when user entred corrct password we break the iteration\n",
        "\n"
      ],
      "metadata": {
        "id": "tuoRCOcIA8am",
        "colab": {
          "base_uri": "https://localhost:8080/"
        },
        "outputId": "7767a947-eccc-4823-92a0-a2cb41e52ad8"
      },
      "execution_count": null,
      "outputs": [
        {
          "output_type": "stream",
          "name": "stdout",
          "text": [
            "Enter your password2345\n",
            "Enter your password3564\n",
            "Enter your password654778\n",
            "Enter your password1234\n",
            "Login sucessfull\n"
          ]
        }
      ]
    },
    {
      "cell_type": "code",
      "source": [
        "'''Continue statement\n",
        "\n",
        "Lets understant with the simple example\n",
        "we finding an even numbers from list a list which contain randomly even and odd number we use following code to do this\n",
        "using continue keyword'''\n",
        "\n",
        "l=[1,2,3,4,7,8,6,9,11,10]\n",
        "\n",
        "for i in l:\n",
        "  if i%2!=0:\n",
        "    continue\n",
        "  else:\n",
        "    print(i)"
      ],
      "metadata": {
        "colab": {
          "base_uri": "https://localhost:8080/"
        },
        "id": "3w7RgcoUIFiL",
        "outputId": "850e39b4-fd9c-4f25-d14c-a8650b7768c3"
      },
      "execution_count": null,
      "outputs": [
        {
          "output_type": "stream",
          "name": "stdout",
          "text": [
            "2\n",
            "4\n",
            "8\n",
            "6\n",
            "10\n"
          ]
        }
      ]
    },
    {
      "cell_type": "markdown",
      "source": [
        "22.Create a Python program that calculates the BMI (Body Mass Index) of a person based on their weight and height using if-else.\n"
      ],
      "metadata": {
        "id": "XL4LRcebA_gZ"
      }
    },
    {
      "cell_type": "code",
      "source": [
        "weight=float(input('Enter your weight'))\n",
        "height=float(input('Enter your height'))\n",
        "bmi = weight / (height ** 2)\n",
        "print(bmi)"
      ],
      "metadata": {
        "colab": {
          "base_uri": "https://localhost:8080/"
        },
        "id": "C0cc-KEQBAnR",
        "outputId": "13ee7567-7be2-4ca2-c533-ab00cb75b507"
      },
      "execution_count": null,
      "outputs": [
        {
          "output_type": "stream",
          "name": "stdout",
          "text": [
            "Enter your weight49\n",
            "Enter your height170\n",
            "0.0016955017301038063\n"
          ]
        }
      ]
    },
    {
      "cell_type": "markdown",
      "source": [
        "23.How can you use the \"filter()\" function with if-else statements to filter elements from a list?\n"
      ],
      "metadata": {
        "id": "zHKOLJzWBBJt"
      }
    },
    {
      "cell_type": "code",
      "source": [
        "l=[1,2,3,4,5,6,7,8,9,10]\n",
        "\n",
        "print(list(filter(lambda x:x%2==0,l)))"
      ],
      "metadata": {
        "id": "fTc1keIwBFfY",
        "colab": {
          "base_uri": "https://localhost:8080/"
        },
        "outputId": "c4694bc5-89fc-48e3-c30a-ffdea7e2a285"
      },
      "execution_count": null,
      "outputs": [
        {
          "output_type": "stream",
          "name": "stdout",
          "text": [
            "[2, 4, 6, 8, 10]\n"
          ]
        }
      ]
    },
    {
      "cell_type": "markdown",
      "source": [
        "24.Write a Python program to determine if a given number is prime or not using if-else.\n"
      ],
      "metadata": {
        "id": "qnahkSIjBI6u"
      }
    },
    {
      "cell_type": "code",
      "source": [
        "from sympy import isprime\n",
        "\n",
        "num=int(input('Enter anumber'))\n",
        "if isprime(num):\n",
        "  print('The given number is prime')\n",
        "else:\n",
        "  print('The given number is not prime')"
      ],
      "metadata": {
        "colab": {
          "base_uri": "https://localhost:8080/"
        },
        "id": "Ss9-abpWBKAy",
        "outputId": "8cb92664-a46f-451d-81aa-14e2c535f5bb"
      },
      "execution_count": null,
      "outputs": [
        {
          "output_type": "stream",
          "name": "stdout",
          "text": [
            "Enter anumber3\n",
            "The given number is prime\n"
          ]
        }
      ]
    },
    {
      "cell_type": "markdown",
      "source": [
        "#map\n"
      ],
      "metadata": {
        "id": "qvGm6WknIMAm"
      }
    },
    {
      "cell_type": "markdown",
      "source": [
        "1.Explain the purpose of the `map()` function in Python and provide an example of how it can be used to apply a function to each element of an iterable.\n"
      ],
      "metadata": {
        "id": "uCGnTUSIIOIx"
      }
    },
    {
      "cell_type": "code",
      "source": [
        "'''map function takes two arguments one is function and other is iterable\n",
        "map gives every value of list to an function to perform operatio on it one by one\n",
        "the example is given below'''\n",
        "\n",
        "l1=[1,2,3,4]\n",
        "\n",
        "print(list(map(lambda x:x**2,l)))"
      ],
      "metadata": {
        "id": "sZtSF38dITij",
        "colab": {
          "base_uri": "https://localhost:8080/"
        },
        "outputId": "9e4cc3db-583e-458a-c938-2890f0c1c4bd"
      },
      "execution_count": null,
      "outputs": [
        {
          "output_type": "stream",
          "name": "stdout",
          "text": [
            "[1, 4, 9, 16, 25, 36, 49, 64, 81, 100]\n"
          ]
        }
      ]
    },
    {
      "cell_type": "markdown",
      "source": [
        "2.Write a Python program that uses the `map()` function to square each element of a list of numbers.\n"
      ],
      "metadata": {
        "id": "mXWTEgJTIXOa"
      }
    },
    {
      "cell_type": "code",
      "source": [
        "def squares(n):\n",
        "  return n**2\n",
        "l=[1,2,3,4]\n",
        "\n",
        "print(list(map(squares,l)))"
      ],
      "metadata": {
        "id": "ID0N_k5iIYr7",
        "colab": {
          "base_uri": "https://localhost:8080/"
        },
        "outputId": "ca663d43-187d-46bd-f830-3f847a16b60f"
      },
      "execution_count": null,
      "outputs": [
        {
          "output_type": "stream",
          "name": "stdout",
          "text": [
            "[1, 4, 9, 16]\n"
          ]
        }
      ]
    },
    {
      "cell_type": "markdown",
      "source": [
        "3.How does the `map()` function differ from a list comprehension in Python, and when would you choose one over the other?\n"
      ],
      "metadata": {
        "id": "cQjYhXPeIZl4"
      }
    },
    {
      "cell_type": "code",
      "source": [
        "'''List comprehension is used to write short code while the map function is a function which takes an\n",
        "another function as a arguments and a list or something and pass each element of list\n",
        "one by one to the function and then return the output from function'''\n",
        "\n",
        "\n"
      ],
      "metadata": {
        "id": "90BFJfRDIdc0"
      },
      "execution_count": null,
      "outputs": []
    },
    {
      "cell_type": "markdown",
      "source": [
        "4.Create a Python program that uses the `map()` function to convert a list of names to uppercase.\n"
      ],
      "metadata": {
        "id": "Isq1WPUAIedB"
      }
    },
    {
      "cell_type": "code",
      "source": [
        "def uppercase(name):\n",
        "  return name.upper()\n",
        "\n",
        "l=['rohan','sohan','anket']\n",
        "print(list(map(uppercase,l)))"
      ],
      "metadata": {
        "id": "iylFDGE4IiKE",
        "colab": {
          "base_uri": "https://localhost:8080/"
        },
        "outputId": "a517db48-a1db-4881-ae9d-c1f469892f71"
      },
      "execution_count": null,
      "outputs": [
        {
          "output_type": "stream",
          "name": "stdout",
          "text": [
            "['ROHAN', 'SOHAN', 'ANKET']\n"
          ]
        }
      ]
    },
    {
      "cell_type": "markdown",
      "source": [
        "5.Write a Python program that uses the `map()` function to calculate the length of each word in a list of strings.\n"
      ],
      "metadata": {
        "id": "igaj5sdFIioi"
      }
    },
    {
      "cell_type": "code",
      "source": [
        "def lenofword(word):\n",
        "  return len(word)\n",
        "\n",
        "l=['rohan','sohan','aniket']\n",
        "print(list(map(lenofword,l)))"
      ],
      "metadata": {
        "id": "oZyzAj3oIo86",
        "colab": {
          "base_uri": "https://localhost:8080/"
        },
        "outputId": "957777cd-4fa9-485b-b245-6790e8a3dbe8"
      },
      "execution_count": null,
      "outputs": [
        {
          "output_type": "stream",
          "name": "stdout",
          "text": [
            "[5, 5, 6]\n"
          ]
        }
      ]
    },
    {
      "cell_type": "markdown",
      "source": [
        "6.How can you use the `map()` function to apply a custom function to elements of multiple lists simultaneously in Python?\n"
      ],
      "metadata": {
        "id": "wTGPCh2eIs5a"
      }
    },
    {
      "cell_type": "code",
      "source": [
        "l=[1,2,3,4,5,6,7,8,9,10]\n",
        "\n",
        "def add2(num):\n",
        "  return num+2\n",
        "\n",
        "print(list(map(add2,l)))"
      ],
      "metadata": {
        "id": "AoKWiQQIIuEE",
        "colab": {
          "base_uri": "https://localhost:8080/"
        },
        "outputId": "33c5fe89-a270-436f-a801-7e8f4ec6d39d"
      },
      "execution_count": null,
      "outputs": [
        {
          "output_type": "stream",
          "name": "stdout",
          "text": [
            "[3, 4, 5, 6, 7, 8, 9, 10, 11, 12]\n"
          ]
        }
      ]
    },
    {
      "cell_type": "markdown",
      "source": [
        "7.Create a Python program that uses `map()` to convert a list of temperatures from Celsius to Fahrenheit.\n"
      ],
      "metadata": {
        "id": "MoMm-OU3IuyY"
      }
    },
    {
      "cell_type": "code",
      "source": [
        "def converter(celsius):\n",
        "  fahrenheit = celsius * 9/5 + 32\n",
        "  return fahrenheit\n",
        "\n",
        "loftemp=[32,34,35,45]\n",
        "\n",
        "print(list(map(converter,loftemp)))"
      ],
      "metadata": {
        "id": "E_MuWGFAIyv8",
        "colab": {
          "base_uri": "https://localhost:8080/"
        },
        "outputId": "fa6c8cff-34a8-40cc-bad2-a7a18870415c"
      },
      "execution_count": null,
      "outputs": [
        {
          "output_type": "stream",
          "name": "stdout",
          "text": [
            "[89.6, 93.2, 95.0, 113.0]\n"
          ]
        }
      ]
    },
    {
      "cell_type": "markdown",
      "source": [
        "8.Write a Python program that uses the `map()` function to round each element of a list of floating-point numbers to the nearest integer.\n"
      ],
      "metadata": {
        "id": "3358ksGJIzUB"
      }
    },
    {
      "cell_type": "code",
      "source": [
        "def roundoff(floatnum):\n",
        "  return round(floatnum)\n",
        "\n",
        "l=[3.14,3.23,4.45,2.44]\n",
        "print(list(map(roundoff,l)))"
      ],
      "metadata": {
        "id": "htrb9qt7I3zt",
        "colab": {
          "base_uri": "https://localhost:8080/"
        },
        "outputId": "3e401d70-614a-4eaa-ea53-29ab6075fd83"
      },
      "execution_count": null,
      "outputs": [
        {
          "output_type": "stream",
          "name": "stdout",
          "text": [
            "[3, 3, 4, 2]\n"
          ]
        }
      ]
    },
    {
      "cell_type": "markdown",
      "source": [
        "#reduce\n"
      ],
      "metadata": {
        "id": "PLXyMrk_JBqV"
      }
    },
    {
      "cell_type": "markdown",
      "source": [
        "1.What is the `reduce()` function in Python, and what module should you import to use it? Provide an example of its basic usage.\n"
      ],
      "metadata": {
        "id": "laEGVxi4JEyk"
      }
    },
    {
      "cell_type": "code",
      "source": [
        "'''reduce() is a part of functool module it takes an function and iterable as a argument and return a single value\n",
        "it is similar to map function but map return an object which we have to convert into list also it return list while\n",
        "reduce give us single value\n",
        "'''\n",
        "\n",
        "'''To import reduce function we use functool module'''\n",
        "l=[1,2,3,4]\n",
        "print(reduce(lambda a,b:a+b,l))\n",
        "\n",
        "'''This function calculate a sum of list using reduce function'''"
      ],
      "metadata": {
        "id": "1HQrgDl6JIFe",
        "colab": {
          "base_uri": "https://localhost:8080/"
        },
        "outputId": "8da6150d-4a37-414a-d892-70cde09e1be4"
      },
      "execution_count": null,
      "outputs": [
        {
          "output_type": "stream",
          "name": "stdout",
          "text": [
            "10\n"
          ]
        }
      ]
    },
    {
      "cell_type": "markdown",
      "source": [
        "2.Write a Python program that uses the `reduce()` function to find the product of all elements in a list.\n"
      ],
      "metadata": {
        "id": "Krc68LkEJKnu"
      }
    },
    {
      "cell_type": "code",
      "source": [
        "from functools import reduce\n",
        "l=[1,2,3,4,5]\n",
        "\n",
        "print(reduce(lambda a,b:a*b,l))"
      ],
      "metadata": {
        "id": "c8yEVu77JLaY",
        "colab": {
          "base_uri": "https://localhost:8080/"
        },
        "outputId": "c60d6ea3-140e-4c80-ce80-3901dd391bdd"
      },
      "execution_count": null,
      "outputs": [
        {
          "output_type": "stream",
          "name": "stdout",
          "text": [
            "120\n"
          ]
        }
      ]
    },
    {
      "cell_type": "markdown",
      "source": [
        "3.Create a Python program that uses `reduce()` to find the maximum element in a list of numbers.\n"
      ],
      "metadata": {
        "id": "rbf9Xs5aJN00"
      }
    },
    {
      "cell_type": "code",
      "source": [
        "l=[1,2,3,4,5]\n",
        "print(reduce(lambda a,b:max(a,b),l))"
      ],
      "metadata": {
        "id": "Ped3HbOAJO0-",
        "colab": {
          "base_uri": "https://localhost:8080/"
        },
        "outputId": "8303d928-5066-407d-8ed1-2bafa3f9c44e"
      },
      "execution_count": null,
      "outputs": [
        {
          "output_type": "stream",
          "name": "stdout",
          "text": [
            "5\n"
          ]
        }
      ]
    },
    {
      "cell_type": "markdown",
      "source": [
        "4.How can you use the `reduce()` function to concatenate a list of strings into a single string?\n"
      ],
      "metadata": {
        "id": "jUDttOYoJPiD"
      }
    },
    {
      "cell_type": "code",
      "source": [
        "l=['r','o','h','a','n']\n",
        "\n",
        "print(reduce(lambda a,b:a+b,l))"
      ],
      "metadata": {
        "id": "gE6psPruJTM2",
        "colab": {
          "base_uri": "https://localhost:8080/"
        },
        "outputId": "c5240627-8304-42eb-e122-231cf9f39fe8"
      },
      "execution_count": null,
      "outputs": [
        {
          "output_type": "stream",
          "name": "stdout",
          "text": [
            "rohan\n"
          ]
        }
      ]
    },
    {
      "cell_type": "markdown",
      "source": [
        "5.Write a Python program that calculates the factorial of a number using the `reduce()` function.\n"
      ],
      "metadata": {
        "id": "yenNKONtJTqK"
      }
    },
    {
      "cell_type": "code",
      "source": [
        "from functools import reduce\n",
        "\n",
        "l=5\n",
        "print(reduce(lambda a,b:a*b,range(1,l+1)))"
      ],
      "metadata": {
        "id": "Na_4b0TBJXKt",
        "colab": {
          "base_uri": "https://localhost:8080/"
        },
        "outputId": "9eb187c0-2b6e-4173-9f8f-594d50b33be4"
      },
      "execution_count": null,
      "outputs": [
        {
          "output_type": "stream",
          "name": "stdout",
          "text": [
            "120\n"
          ]
        }
      ]
    },
    {
      "cell_type": "markdown",
      "source": [
        "6.Create a Python program that uses `reduce()` to find the GCD (Greatest Common Divisor) of a list of numbers.\n"
      ],
      "metadata": {
        "id": "SW6DgXjiJXsY"
      }
    },
    {
      "cell_type": "code",
      "source": [
        "l=[36,24]\n",
        "gcd=lambda a, b: a if b == 0 else gcd(b, a % b)\n",
        "print(reduce(lambda a,b:gcd(a,b),l))"
      ],
      "metadata": {
        "id": "41JEuLW1Ja-X",
        "colab": {
          "base_uri": "https://localhost:8080/"
        },
        "outputId": "4ff35dcf-850b-472c-e9da-042d8646a458"
      },
      "execution_count": null,
      "outputs": [
        {
          "output_type": "stream",
          "name": "stdout",
          "text": [
            "12\n"
          ]
        }
      ]
    },
    {
      "cell_type": "markdown",
      "source": [
        "\n",
        "7.Write a Python program that uses the `reduce()` function to find the sum of the digits of a given number.\n"
      ],
      "metadata": {
        "id": "NTR2nkCfJbip"
      }
    },
    {
      "cell_type": "code",
      "source": [
        "a=25\n",
        "\n",
        "print(reduce(lambda a,b:int(a)+int(b),[int(digit) for digit in str(a)]))"
      ],
      "metadata": {
        "id": "faUT-dnqJezm",
        "colab": {
          "base_uri": "https://localhost:8080/"
        },
        "outputId": "194d3764-21a2-4d4a-b7fa-43112ce51fe5"
      },
      "execution_count": null,
      "outputs": [
        {
          "output_type": "stream",
          "name": "stdout",
          "text": [
            "7\n"
          ]
        }
      ]
    },
    {
      "cell_type": "markdown",
      "source": [
        "#Filter\n"
      ],
      "metadata": {
        "id": "3_xHero2Jl54"
      }
    },
    {
      "cell_type": "markdown",
      "source": [
        "1.Explain the purpose of the `filter()` function in Python and provide an example of how it can be used to filter elements from an iterable.\n"
      ],
      "metadata": {
        "id": "mk6mgUbiJtrh"
      }
    },
    {
      "cell_type": "code",
      "source": [
        "l=[-1,2,3,-4,5,6,-9]\n",
        "\n",
        "# this function filter negative number\n",
        "\n",
        "print(list(filter(lambda x:x<0,l)))"
      ],
      "metadata": {
        "id": "CmHllMoOJxFH",
        "colab": {
          "base_uri": "https://localhost:8080/"
        },
        "outputId": "d8bd1a17-cf8f-4033-aaac-2c86ff1df501"
      },
      "execution_count": null,
      "outputs": [
        {
          "output_type": "stream",
          "name": "stdout",
          "text": [
            "[-1, -4, -9]\n"
          ]
        }
      ]
    },
    {
      "cell_type": "markdown",
      "source": [
        "2.Write a Python program that uses the `filter()` function to select even numbers from a list of integers.\n"
      ],
      "metadata": {
        "id": "JR-1aeAMJzHl"
      }
    },
    {
      "cell_type": "code",
      "source": [
        "l=list(range(1,10))\n",
        "\n",
        "print(list(filter(lambda x:x%2==0,l)))"
      ],
      "metadata": {
        "id": "DGgCDHodJ4C4"
      },
      "execution_count": null,
      "outputs": []
    },
    {
      "cell_type": "markdown",
      "source": [
        "3.Create a Python program that uses the `filter()` function to select names that start with a specific letter from a list of strings.\n"
      ],
      "metadata": {
        "id": "KzOhsaFXJ43e"
      }
    },
    {
      "cell_type": "code",
      "source": [
        "los=['rohan','sohan','aniket']\n",
        "\n",
        "# def func1(n):\n",
        "#   if n[0]=='r':\n",
        "#     return n\n",
        "\n",
        "\n",
        "\n",
        "print(list(filter(lambda x:x[0]=='r',los)))"
      ],
      "metadata": {
        "id": "6tEtm4rTJ82T",
        "colab": {
          "base_uri": "https://localhost:8080/"
        },
        "outputId": "4628509c-7046-4558-d36e-c39ac1e0794c"
      },
      "execution_count": null,
      "outputs": [
        {
          "output_type": "stream",
          "name": "stdout",
          "text": [
            "['rohan']\n"
          ]
        }
      ]
    },
    {
      "cell_type": "markdown",
      "source": [
        "4.Write a Python program that uses the `filter()` function to select prime numbers from a list of integers.\n"
      ],
      "metadata": {
        "id": "j5GS0bAsJ9UO"
      }
    },
    {
      "cell_type": "code",
      "source": [
        "from sympy import isprime\n",
        "l=list(range(1,10))\n",
        "\n",
        "print(list(filter(lambda x:isprime(x),l)))"
      ],
      "metadata": {
        "id": "pwaowWbNKAko",
        "colab": {
          "base_uri": "https://localhost:8080/"
        },
        "outputId": "7ebf877d-e60f-4031-b3be-6cc9f5fd00ae"
      },
      "execution_count": null,
      "outputs": [
        {
          "output_type": "stream",
          "name": "stdout",
          "text": [
            "[2, 3, 5, 7]\n"
          ]
        }
      ]
    },
    {
      "cell_type": "markdown",
      "source": [
        "5.How can you use the `filter()` function to remove None values from a list in Python?\n"
      ],
      "metadata": {
        "id": "ZlOF5prJKDTo"
      }
    },
    {
      "cell_type": "code",
      "source": [
        "l=[1,2,None,3,4]\n",
        "print(list(filter(lambda x:x is not None,l)))"
      ],
      "metadata": {
        "id": "2MyxbW3pKEH_",
        "colab": {
          "base_uri": "https://localhost:8080/"
        },
        "outputId": "1fb72ccd-87e6-4dc6-ca03-2934dd73935c"
      },
      "execution_count": null,
      "outputs": [
        {
          "output_type": "stream",
          "name": "stdout",
          "text": [
            "[1, 2, 3, 4]\n"
          ]
        }
      ]
    },
    {
      "cell_type": "markdown",
      "source": [
        "6.Create a Python program that uses `filter()` to select words longer than a certain length from a list of strings.\n"
      ],
      "metadata": {
        "id": "G6ql-qFhKGzv"
      }
    },
    {
      "cell_type": "code",
      "source": [
        "los=['rohan','sohan','aniket']\n",
        "\n",
        "print(list(filter(lambda x:len(x)>5,los)))"
      ],
      "metadata": {
        "id": "NvmFurpVKHsA",
        "colab": {
          "base_uri": "https://localhost:8080/"
        },
        "outputId": "837cd3c4-63e2-4e35-c79b-bcd4861a5685"
      },
      "execution_count": null,
      "outputs": [
        {
          "output_type": "stream",
          "name": "stdout",
          "text": [
            "['aniket']\n"
          ]
        }
      ]
    },
    {
      "cell_type": "markdown",
      "source": [
        "7.Write a Python program that uses the `filter()` function to select elements greater than a specified threshold from a list of values.\n",
        "\n"
      ],
      "metadata": {
        "id": "AFA-WOTiKN0B"
      }
    },
    {
      "cell_type": "code",
      "source": [
        "print(list(filter(lambda x:x>5,list(range(10)))))"
      ],
      "metadata": {
        "id": "THZ3dzSZKO1B",
        "colab": {
          "base_uri": "https://localhost:8080/"
        },
        "outputId": "dc37a531-8c6a-47b1-fcf4-ab96688d092b"
      },
      "execution_count": null,
      "outputs": [
        {
          "output_type": "stream",
          "name": "stdout",
          "text": [
            "[6, 7, 8, 9]\n"
          ]
        }
      ]
    },
    {
      "cell_type": "markdown",
      "source": [
        "#Recursion"
      ],
      "metadata": {
        "id": "g0V2XqR4KQC3"
      }
    },
    {
      "cell_type": "markdown",
      "source": [
        "1.Explain the concept of recursion in Python. How does it differ from iteration?\n"
      ],
      "metadata": {
        "id": "UJLohdpqKavl"
      }
    },
    {
      "cell_type": "code",
      "source": [],
      "metadata": {
        "id": "3Z4k-PDJKcAa"
      },
      "execution_count": null,
      "outputs": []
    },
    {
      "cell_type": "markdown",
      "source": [
        "2.Write a Python program to calculate the factorial of a number using recursion.\n"
      ],
      "metadata": {
        "id": "Tk-4gkYHKefB"
      }
    },
    {
      "cell_type": "code",
      "source": [
        "def fact(a):\n",
        "    if a == 0 or a == 1:\n",
        "        return 1\n",
        "    else:\n",
        "        return a * fact(a - 1)\n",
        "\n",
        "print(fact(4))"
      ],
      "metadata": {
        "id": "fsr-8PmYKfeS",
        "colab": {
          "base_uri": "https://localhost:8080/"
        },
        "outputId": "4bb6f0cb-5720-4a17-84a6-4bb9cbc1a613"
      },
      "execution_count": null,
      "outputs": [
        {
          "output_type": "stream",
          "name": "stdout",
          "text": [
            "24\n"
          ]
        }
      ]
    },
    {
      "cell_type": "markdown",
      "source": [
        "3.Create a recursive Python function to find the nth Fibonacci number.\n"
      ],
      "metadata": {
        "id": "Amsf5TEcKf-f"
      }
    },
    {
      "cell_type": "code",
      "source": [],
      "metadata": {
        "id": "BLTCmcEWKi7y"
      },
      "execution_count": null,
      "outputs": []
    },
    {
      "cell_type": "markdown",
      "source": [
        "4.Write a recursive Python function to calculate the sum of all elements in a list.\n"
      ],
      "metadata": {
        "id": "0L9HpVvnKjam"
      }
    },
    {
      "cell_type": "code",
      "source": [
        "# l=[1,2,3,4]\n",
        "\n",
        "# def calc(l):\n",
        "#   sum=0\n",
        "#   sum+=reduce(lambda a,b:a+b,l)\n",
        "#   return sum\n",
        "\n",
        "# print(calc(l))\n",
        "\n",
        "\n",
        "def calc(l):\n",
        "  sum=0\n",
        "  sum+=l[0]\n",
        "  return calc(l[])"
      ],
      "metadata": {
        "id": "HSVgr27UKmkk",
        "colab": {
          "base_uri": "https://localhost:8080/"
        },
        "outputId": "48921f81-2356-45da-9dde-362f91dca2f9"
      },
      "execution_count": null,
      "outputs": [
        {
          "output_type": "stream",
          "name": "stdout",
          "text": [
            "10\n"
          ]
        }
      ]
    },
    {
      "cell_type": "markdown",
      "source": [
        "5.How can you prevent a recursive function from running indefinitely, causing a stack overflow error?\n"
      ],
      "metadata": {
        "id": "U8HxVFRrKm8_"
      }
    },
    {
      "cell_type": "code",
      "source": [],
      "metadata": {
        "id": "WK1igqWsKpsS"
      },
      "execution_count": null,
      "outputs": []
    },
    {
      "cell_type": "markdown",
      "source": [
        "6.Create a recursive Python function to find the greatest common divisor (GCD) of two numbers using the Euclidean algorithm.\n"
      ],
      "metadata": {
        "id": "MAHj3-j1KqOH"
      }
    },
    {
      "cell_type": "code",
      "source": [],
      "metadata": {
        "id": "BqKzRzGgKtOC"
      },
      "execution_count": null,
      "outputs": []
    },
    {
      "cell_type": "markdown",
      "source": [
        "7.Write a recursive Python function to reverse a string.\n"
      ],
      "metadata": {
        "id": "-zG8nWmRKtp7"
      }
    },
    {
      "cell_type": "code",
      "source": [],
      "metadata": {
        "id": "W0wqpZ6BKwbC"
      },
      "execution_count": null,
      "outputs": []
    },
    {
      "cell_type": "markdown",
      "source": [
        "8.Create a recursive Python function to calculate the power of a number (x^n).\n"
      ],
      "metadata": {
        "id": "LJuFQOsXKzfN"
      }
    },
    {
      "cell_type": "code",
      "source": [],
      "metadata": {
        "id": "86dNeGNEK0bh"
      },
      "execution_count": null,
      "outputs": []
    },
    {
      "cell_type": "markdown",
      "source": [
        "9.Write a recursive Python function to find all permutations of a given string.\n"
      ],
      "metadata": {
        "id": "8d-P82y5K3SX"
      }
    },
    {
      "cell_type": "code",
      "source": [],
      "metadata": {
        "id": "UAJF16WoK5re"
      },
      "execution_count": null,
      "outputs": []
    },
    {
      "cell_type": "markdown",
      "source": [
        "10.Write a recursive Python function to check if a string is a palindrome.\n"
      ],
      "metadata": {
        "id": "6eo_p1dXK3cU"
      }
    },
    {
      "cell_type": "code",
      "source": [],
      "metadata": {
        "id": "OPhvxptBK_Pa"
      },
      "execution_count": null,
      "outputs": []
    },
    {
      "cell_type": "markdown",
      "source": [
        "11.Create a recursive Python function to generate all possible combinations of a list of elements.\n"
      ],
      "metadata": {
        "id": "k81jl0zfLABf"
      }
    },
    {
      "cell_type": "code",
      "source": [],
      "metadata": {
        "id": "ypH-7ij4LDmb"
      },
      "execution_count": null,
      "outputs": []
    },
    {
      "cell_type": "markdown",
      "source": [
        "#Basic of Function"
      ],
      "metadata": {
        "id": "pTyD41i8LKoZ"
      }
    },
    {
      "cell_type": "markdown",
      "source": [
        "1.What is a function in Python, and why is it used?\n"
      ],
      "metadata": {
        "id": "VCroFjvlLPit"
      }
    },
    {
      "cell_type": "code",
      "source": [
        "\n",
        "'''In  python function is block of code which takes some arguments perform operation on it and\n",
        "return some values\n",
        "later we just have to call the function give it argument and it gives us desired answer\n",
        "for example the following function takes two arguments a,b and return their sum'''\n",
        "\n",
        "def addition(a,b):\n",
        "  return a+b\n",
        "\n",
        "'''To call this function we have to write following line of code'''\n",
        "var=addition(4,5)\n",
        "print(var)"
      ],
      "metadata": {
        "id": "k8803GLTLVzL",
        "colab": {
          "base_uri": "https://localhost:8080/"
        },
        "outputId": "ae73bb92-b97c-4c77-c39b-a0a841b0917d"
      },
      "execution_count": null,
      "outputs": [
        {
          "output_type": "stream",
          "name": "stdout",
          "text": [
            "9\n"
          ]
        }
      ]
    },
    {
      "cell_type": "markdown",
      "source": [
        "2.How do you define a function in Python? Provide an example.\n"
      ],
      "metadata": {
        "id": "kc7yTnWjLXmH"
      }
    },
    {
      "cell_type": "code",
      "source": [
        "'''To define function in python we use def keyword the function takes arguments it required and perform\n",
        "required operation and then return answer'''\n",
        "\n",
        "def addtwo(a,b):\n",
        "  return a+b\n",
        "\n",
        "print(addtwo(4,5))"
      ],
      "metadata": {
        "id": "6s53icKiLYZT",
        "colab": {
          "base_uri": "https://localhost:8080/"
        },
        "outputId": "6b95031f-b8b8-44c8-96b2-121017f711a8"
      },
      "execution_count": null,
      "outputs": [
        {
          "output_type": "stream",
          "name": "stdout",
          "text": [
            "9\n"
          ]
        }
      ]
    },
    {
      "cell_type": "markdown",
      "source": [
        "3.Explain the difference between a function definition and a function call.\n"
      ],
      "metadata": {
        "id": "cAIPjfthLa4I"
      }
    },
    {
      "cell_type": "code",
      "source": [
        "'''The simple diffrence is function defination means process of creating a function defining its work\n",
        "and function calling means making use of function by feeding it arguments or executing the function '''\n",
        "\n"
      ],
      "metadata": {
        "id": "hesj6KJaLbzf"
      },
      "execution_count": null,
      "outputs": []
    },
    {
      "cell_type": "markdown",
      "source": [
        "4.Write a Python program that defines a function to calculate the sum of two numbers and then calls the function.\n"
      ],
      "metadata": {
        "id": "kp2DUDkLLc2p"
      }
    },
    {
      "cell_type": "code",
      "source": [
        "def add2(a,b):\n",
        "  return a+b\n",
        "\n",
        "print(add2(3,4))"
      ],
      "metadata": {
        "id": "O5t54_RgLfob",
        "colab": {
          "base_uri": "https://localhost:8080/"
        },
        "outputId": "758b1ed7-912f-49dd-ea56-789461f819fa"
      },
      "execution_count": null,
      "outputs": [
        {
          "output_type": "stream",
          "name": "stdout",
          "text": [
            "7\n"
          ]
        }
      ]
    },
    {
      "cell_type": "markdown",
      "source": [
        "5.What is a function signature, and what information does it typically include?\n"
      ],
      "metadata": {
        "id": "6ofU25XGLjDp"
      }
    },
    {
      "cell_type": "code",
      "source": [],
      "metadata": {
        "id": "X6gYpkYGLkFE"
      },
      "execution_count": null,
      "outputs": []
    },
    {
      "cell_type": "markdown",
      "source": [
        "6.Create a Python function that takes two arguments and returns their product.\n"
      ],
      "metadata": {
        "id": "kggwADuWLkle"
      }
    },
    {
      "cell_type": "code",
      "source": [
        "def prod(a,b):\n",
        "  return a*b\n",
        "\n",
        "a=prod(4,5)\n",
        "print(a)"
      ],
      "metadata": {
        "id": "1-yA5KrBLot1",
        "colab": {
          "base_uri": "https://localhost:8080/"
        },
        "outputId": "a59b5171-cbf1-4c87-9df4-57e70e5a5cf6"
      },
      "execution_count": null,
      "outputs": [
        {
          "output_type": "stream",
          "name": "stdout",
          "text": [
            "20\n"
          ]
        }
      ]
    },
    {
      "cell_type": "markdown",
      "source": [
        "#Function parameter and Arguments"
      ],
      "metadata": {
        "id": "iCES4kdeLxkI"
      }
    },
    {
      "cell_type": "markdown",
      "source": [
        "1.Explain the concepts of formal parameters and actual arguments in Python functions.\n"
      ],
      "metadata": {
        "id": "LX7ob4-jL9Q7"
      }
    },
    {
      "cell_type": "markdown",
      "source": [],
      "metadata": {
        "id": "PnCXn_N6MzfQ"
      }
    },
    {
      "cell_type": "code",
      "source": [],
      "metadata": {
        "id": "DSUMmqLhL-nk"
      },
      "execution_count": null,
      "outputs": []
    },
    {
      "cell_type": "markdown",
      "source": [
        "2.Write a Python program that defines a function with default argument values.\n"
      ],
      "metadata": {
        "id": "w03E7W3QMAwK"
      }
    },
    {
      "cell_type": "code",
      "source": [
        "def func(a=4):\n",
        "  return a**2\n",
        "\n",
        "print(func())\n"
      ],
      "metadata": {
        "id": "bESqbkXVMBiw",
        "colab": {
          "base_uri": "https://localhost:8080/"
        },
        "outputId": "bb6ffb8e-ca07-4ae8-e9cb-13ffb13eab22"
      },
      "execution_count": null,
      "outputs": [
        {
          "output_type": "stream",
          "name": "stdout",
          "text": [
            "16\n"
          ]
        }
      ]
    },
    {
      "cell_type": "markdown",
      "source": [
        "3.How do you use keyword arguments in Python function calls? Provide an example.\n"
      ],
      "metadata": {
        "id": "9TfSGnfCMCC3"
      }
    },
    {
      "cell_type": "code",
      "source": [],
      "metadata": {
        "id": "hRGt7qkFMFF8"
      },
      "execution_count": null,
      "outputs": []
    },
    {
      "cell_type": "markdown",
      "source": [
        "4.Create a Python function that accepts a variable number of arguments and calculates their sum.\n"
      ],
      "metadata": {
        "id": "D6p2ZfC8MGSY"
      }
    },
    {
      "cell_type": "code",
      "source": [
        "def addfunc(*args):\n",
        "  sum=0\n",
        "  for i in args:\n",
        "    sum+=i\n",
        "  return sum\n",
        "\n",
        "print(addfunc(1,2,3,4,5,6,7,8,9))"
      ],
      "metadata": {
        "id": "cCK1kmSnMJ10",
        "colab": {
          "base_uri": "https://localhost:8080/"
        },
        "outputId": "386d8fc3-959b-473f-8ddd-2df5e0251bdd"
      },
      "execution_count": null,
      "outputs": [
        {
          "output_type": "stream",
          "name": "stdout",
          "text": [
            "45\n"
          ]
        }
      ]
    },
    {
      "cell_type": "markdown",
      "source": [
        "5.What is the purpose of the `*args` and `**kwargs` syntax in function parameter lists?\n"
      ],
      "metadata": {
        "id": "_Ee1FHfGMK3o"
      }
    },
    {
      "cell_type": "code",
      "source": [
        "'''with the *agrs and **kwargs we can give any number of arguments to function'''"
      ],
      "metadata": {
        "id": "U6U0k_yyMRTS"
      },
      "execution_count": null,
      "outputs": []
    },
    {
      "cell_type": "markdown",
      "source": [
        "#Return Values and Scoping:\n"
      ],
      "metadata": {
        "id": "-UIis-fLMR-1"
      }
    },
    {
      "cell_type": "markdown",
      "source": [
        "1.Describe the role of the `return` statement in Python functions and provide examples.\n"
      ],
      "metadata": {
        "id": "4wclOtvhMV9_"
      }
    },
    {
      "cell_type": "code",
      "source": [],
      "metadata": {
        "id": "zO6JrBR8MVR4"
      },
      "execution_count": null,
      "outputs": []
    },
    {
      "cell_type": "markdown",
      "source": [
        "2.Explain the concept of variable scope in Python, including local and global variables.\n"
      ],
      "metadata": {
        "id": "XilVRBnyMa8Y"
      }
    },
    {
      "cell_type": "code",
      "source": [],
      "metadata": {
        "id": "OsgCxNq4Md5P"
      },
      "execution_count": null,
      "outputs": []
    },
    {
      "cell_type": "markdown",
      "source": [
        "3.Write a Python program that demonstrates the use of global variables within functions.\n"
      ],
      "metadata": {
        "id": "Tf_yC4TGMhBL"
      }
    },
    {
      "cell_type": "code",
      "source": [],
      "metadata": {
        "id": "k646WQCJMiXl"
      },
      "execution_count": null,
      "outputs": []
    },
    {
      "cell_type": "markdown",
      "source": [
        "4.Create a Python function that calculates the factorial of a number and returns it.\n"
      ],
      "metadata": {
        "id": "Z0ABNF7lMlwy"
      }
    },
    {
      "cell_type": "code",
      "source": [
        "def factorial(num):\n",
        "  ans=1\n",
        "  for i in range(1,num+1):\n",
        "    ans*=i\n",
        "  return ans\n",
        "\n",
        "print(factorial(10))"
      ],
      "metadata": {
        "id": "f_VtqHnpMmSN",
        "colab": {
          "base_uri": "https://localhost:8080/"
        },
        "outputId": "844d908a-55ba-49dd-a1db-96e2361a7a6f"
      },
      "execution_count": null,
      "outputs": [
        {
          "output_type": "stream",
          "name": "stdout",
          "text": [
            "3628800\n"
          ]
        }
      ]
    },
    {
      "cell_type": "markdown",
      "source": [
        "5.How can you access variables defined outside a function from within the function?\n"
      ],
      "metadata": {
        "id": "8aH-OQLUMoLK"
      }
    },
    {
      "cell_type": "code",
      "source": [
        "a=2\n",
        "\n",
        "def squa(num):\n",
        "  return num**a\n",
        "\n",
        "print(squa(3))"
      ],
      "metadata": {
        "id": "tnZbKeO1Mrap",
        "colab": {
          "base_uri": "https://localhost:8080/"
        },
        "outputId": "e806929c-e70f-4723-f51f-82aeb02ac780"
      },
      "execution_count": null,
      "outputs": [
        {
          "output_type": "stream",
          "name": "stdout",
          "text": [
            "9\n"
          ]
        }
      ]
    },
    {
      "cell_type": "markdown",
      "source": [
        "#Lambda Functions and Higher-order Functions"
      ],
      "metadata": {
        "id": "ScV2lq7SM1MO"
      }
    },
    {
      "cell_type": "markdown",
      "source": [
        "1.What are lambda functions in Python, and when are they typically used?\n"
      ],
      "metadata": {
        "id": "xtvNXElYNBJ5"
      }
    },
    {
      "cell_type": "code",
      "source": [
        "'''lambda functions are function without names we use them when we dont care about name\n",
        "we simply want to perform operation like checking condition they are mostly used to\n",
        "shorten the code\n",
        "the function used mostly with other functions who takes function as arguments like filter\n",
        "'''"
      ],
      "metadata": {
        "id": "LGExAcqkNEqr"
      },
      "execution_count": null,
      "outputs": []
    },
    {
      "cell_type": "markdown",
      "source": [
        "2.Write a Python program that uses lambda functions to sort a list of tuples based on the second element.\n"
      ],
      "metadata": {
        "id": "IXwYQjUpNF0Q"
      }
    },
    {
      "cell_type": "code",
      "source": [],
      "metadata": {
        "id": "ysMWN-AfNB-n"
      },
      "execution_count": null,
      "outputs": []
    },
    {
      "cell_type": "markdown",
      "source": [
        "3.Explain the concept of higher-order functions in Python, and provide an example.\n"
      ],
      "metadata": {
        "id": "f73EIPV0NHtJ"
      }
    },
    {
      "cell_type": "code",
      "source": [],
      "metadata": {
        "id": "q91FvkBNNMKk"
      },
      "execution_count": null,
      "outputs": []
    },
    {
      "cell_type": "markdown",
      "source": [
        "4.Create a Python function that takes a list of numbers and a function as arguments, applying the function to each element in the list.\n"
      ],
      "metadata": {
        "id": "m-I3mjKvNMon"
      }
    },
    {
      "cell_type": "code",
      "source": [],
      "metadata": {
        "id": "iNpOocxSNO-F"
      },
      "execution_count": null,
      "outputs": []
    },
    {
      "cell_type": "markdown",
      "source": [
        "#Built-in Functions:\n"
      ],
      "metadata": {
        "id": "Ycz-83A2NUQw"
      }
    },
    {
      "cell_type": "markdown",
      "source": [
        "1.Describe the role of built-in functions like `len()`, `max()`, and `min()` in Python.\n"
      ],
      "metadata": {
        "id": "kVYtalRjNWME"
      }
    },
    {
      "cell_type": "code",
      "source": [
        "'''This pre build function used to perform common task and helps development process fast and efficient\n",
        "we just have to call it and they do their work'''"
      ],
      "metadata": {
        "id": "51Q9JnJcNVdc"
      },
      "execution_count": null,
      "outputs": []
    },
    {
      "cell_type": "markdown",
      "source": [
        "2.Write a Python program that uses the `map()` function to apply a function to each element of a list.\n"
      ],
      "metadata": {
        "id": "g7l2ZWBINern"
      }
    },
    {
      "cell_type": "code",
      "source": [
        "print(list(map(lambda x:x**2,list(range(1,10)))))"
      ],
      "metadata": {
        "id": "qiK14HP_Nh8A",
        "colab": {
          "base_uri": "https://localhost:8080/"
        },
        "outputId": "819b4d53-f22b-4645-df39-b77e4c64cf39"
      },
      "execution_count": null,
      "outputs": [
        {
          "output_type": "stream",
          "name": "stdout",
          "text": [
            "[1, 4, 9, 16, 25, 36, 49, 64, 81]\n"
          ]
        }
      ]
    },
    {
      "cell_type": "markdown",
      "source": [
        "3.How does the `filter()` function work in Python, and when would you use it?\n"
      ],
      "metadata": {
        "id": "1sinP5P2NimY"
      }
    },
    {
      "cell_type": "code",
      "source": [
        "'''Filter function takes two arguments one is function other is iterable\n",
        "function takes each value fromiterable pass throgh it and give results\n",
        "the filter function do this job\n",
        "we use it when we have t o filter or classify something like even odd number from list\n",
        "'''"
      ],
      "metadata": {
        "id": "GaFDo529NmhZ"
      },
      "execution_count": null,
      "outputs": []
    },
    {
      "cell_type": "markdown",
      "source": [
        "4.Create a Python program that uses the `reduce()` function to find the product of all elements in a list.\n"
      ],
      "metadata": {
        "id": "fprQfytrNpyD"
      }
    },
    {
      "cell_type": "code",
      "source": [
        "from functools import reduce\n",
        "\n",
        "l=[1,2,3,4]\n",
        "print(reduce(lambda a,b:a*b,l))"
      ],
      "metadata": {
        "id": "Xii7vkRwNqle",
        "colab": {
          "base_uri": "https://localhost:8080/"
        },
        "outputId": "abc48421-e08e-4525-d464-122a7f34e268"
      },
      "execution_count": null,
      "outputs": [
        {
          "output_type": "stream",
          "name": "stdout",
          "text": [
            "24\n"
          ]
        }
      ]
    },
    {
      "cell_type": "markdown",
      "source": [
        "#Function Documentation and Best Practices:\n"
      ],
      "metadata": {
        "id": "cFw2PGTkNrL1"
      }
    },
    {
      "cell_type": "markdown",
      "source": [
        "1.Explain the purpose of docstrings in Python functions and how to write them.\n"
      ],
      "metadata": {
        "id": "N5ecTLk2NvbU"
      }
    },
    {
      "cell_type": "code",
      "source": [
        "# purpose of Doc strings\n",
        "\n",
        "'''Doc strings are like basic documentation of functions within source code\n",
        "doc strings comes under best practices used in programming it can explain how code works to\n",
        "new programmers also the same programmer who write it later\n",
        "It increase code readilibity'''"
      ],
      "metadata": {
        "id": "HM-7-F1hNu6d"
      },
      "execution_count": null,
      "outputs": []
    },
    {
      "cell_type": "code",
      "source": [
        "#how to write docstrings\n",
        "\n",
        "'''To define docstrings we use triple quotes within triple quotes we write basic documentation of a function\n",
        "for example'''\n",
        "\n",
        "def add2(a,b):\n",
        "  '''This function takes two numbers and return its sum'''\n",
        "  return a+b\n",
        "\n",
        "'''To read docstring of a function inside function click on shift + Tab it will give you\n",
        "function docstrings'''"
      ],
      "metadata": {
        "id": "7HRPf2DaMGUl"
      },
      "execution_count": null,
      "outputs": []
    },
    {
      "cell_type": "markdown",
      "source": [
        "2.Describe some best practices for naming functions and variables in Python, including naming conventions and guidelines.\n"
      ],
      "metadata": {
        "id": "Eo44xlwxN1Z8"
      }
    },
    {
      "cell_type": "code",
      "source": [
        "\n",
        "'''\n",
        "1.Use lowecase letters while naming the variables\n",
        "2.If function name contains two words then we can use snake_case or camelCase techiniques to naming them\n",
        "3.Use self descriptive names so that it can increase code readilibity\n",
        "4.Do not use special symbols or numbers\n",
        "5.Avoid using reserved keywords\n",
        "'''\n",
        "\n",
        "\n",
        "\n"
      ],
      "metadata": {
        "id": "xIuvnvttOBug"
      },
      "execution_count": null,
      "outputs": []
    }
  ]
}